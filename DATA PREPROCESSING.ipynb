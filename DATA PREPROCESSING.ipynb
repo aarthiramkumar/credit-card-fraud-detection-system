{
 "cells": [
  {
   "cell_type": "code",
   "execution_count": 1,
   "id": "8d59ff05",
   "metadata": {},
   "outputs": [],
   "source": [
    "import pandas as pd\n",
    "import numpy as np\n",
    "import matplotlib.pyplot as plt\n",
    "from sklearn.ensemble import ExtraTreesClassifier"
   ]
  },
  {
   "cell_type": "code",
   "execution_count": 2,
   "id": "c5d6a0d9",
   "metadata": {},
   "outputs": [],
   "source": [
    "#Read the Dataset"
   ]
  },
  {
   "cell_type": "code",
   "execution_count": 4,
   "id": "de2f2bb6",
   "metadata": {},
   "outputs": [
    {
     "data": {
      "text/html": [
       "<div>\n",
       "<style scoped>\n",
       "    .dataframe tbody tr th:only-of-type {\n",
       "        vertical-align: middle;\n",
       "    }\n",
       "\n",
       "    .dataframe tbody tr th {\n",
       "        vertical-align: top;\n",
       "    }\n",
       "\n",
       "    .dataframe thead th {\n",
       "        text-align: right;\n",
       "    }\n",
       "</style>\n",
       "<table border=\"1\" class=\"dataframe\">\n",
       "  <thead>\n",
       "    <tr style=\"text-align: right;\">\n",
       "      <th></th>\n",
       "      <th>User</th>\n",
       "      <th>Card</th>\n",
       "      <th>Year</th>\n",
       "      <th>Month</th>\n",
       "      <th>Day</th>\n",
       "      <th>Amount</th>\n",
       "      <th>UseChip</th>\n",
       "      <th>MerchantName</th>\n",
       "      <th>MerchantCity</th>\n",
       "      <th>MerchantState</th>\n",
       "      <th>Zip</th>\n",
       "      <th>MCC</th>\n",
       "      <th>target</th>\n",
       "    </tr>\n",
       "  </thead>\n",
       "  <tbody>\n",
       "    <tr>\n",
       "      <th>0</th>\n",
       "      <td>1750.0</td>\n",
       "      <td>0.0</td>\n",
       "      <td>2015.0</td>\n",
       "      <td>7.0</td>\n",
       "      <td>16.0</td>\n",
       "      <td>$21.42</td>\n",
       "      <td>Swipe Transaction</td>\n",
       "      <td>Lukass Theaters</td>\n",
       "      <td>Tiffin</td>\n",
       "      <td>OH</td>\n",
       "      <td>44883.000000</td>\n",
       "      <td>7832.0</td>\n",
       "      <td>No</td>\n",
       "    </tr>\n",
       "    <tr>\n",
       "      <th>1</th>\n",
       "      <td>1959.0</td>\n",
       "      <td>1.0</td>\n",
       "      <td>2016.0</td>\n",
       "      <td>5.0</td>\n",
       "      <td>5.0</td>\n",
       "      <td>$76.99</td>\n",
       "      <td>Chip Transaction</td>\n",
       "      <td>Jadens Wholesale</td>\n",
       "      <td>Lancaster</td>\n",
       "      <td>CA</td>\n",
       "      <td>93535.000000</td>\n",
       "      <td>5300.0</td>\n",
       "      <td>No</td>\n",
       "    </tr>\n",
       "    <tr>\n",
       "      <th>2</th>\n",
       "      <td>182.0</td>\n",
       "      <td>2.0</td>\n",
       "      <td>2012.0</td>\n",
       "      <td>11.0</td>\n",
       "      <td>23.0</td>\n",
       "      <td>$2.19</td>\n",
       "      <td>Swipe Transaction</td>\n",
       "      <td>Supermarket Chain 3</td>\n",
       "      <td>Houston</td>\n",
       "      <td>TX</td>\n",
       "      <td>77096.000000</td>\n",
       "      <td>5411.0</td>\n",
       "      <td>No</td>\n",
       "    </tr>\n",
       "    <tr>\n",
       "      <th>3</th>\n",
       "      <td>458.0</td>\n",
       "      <td>2.0</td>\n",
       "      <td>2019.0</td>\n",
       "      <td>5.0</td>\n",
       "      <td>15.0</td>\n",
       "      <td>$45.73</td>\n",
       "      <td>Chip Transaction</td>\n",
       "      <td>Supermarket Chain 3</td>\n",
       "      <td>Flint</td>\n",
       "      <td>MI</td>\n",
       "      <td>48532.000000</td>\n",
       "      <td>5411.0</td>\n",
       "      <td>No</td>\n",
       "    </tr>\n",
       "    <tr>\n",
       "      <th>4</th>\n",
       "      <td>1949.0</td>\n",
       "      <td>0.0</td>\n",
       "      <td>2018.0</td>\n",
       "      <td>1.0</td>\n",
       "      <td>4.0</td>\n",
       "      <td>$1.25</td>\n",
       "      <td>Chip Transaction</td>\n",
       "      <td>Convenience Store Chain 1</td>\n",
       "      <td>Brooklyn</td>\n",
       "      <td>NY</td>\n",
       "      <td>11213.000000</td>\n",
       "      <td>5499.0</td>\n",
       "      <td>No</td>\n",
       "    </tr>\n",
       "    <tr>\n",
       "      <th>...</th>\n",
       "      <td>...</td>\n",
       "      <td>...</td>\n",
       "      <td>...</td>\n",
       "      <td>...</td>\n",
       "      <td>...</td>\n",
       "      <td>...</td>\n",
       "      <td>...</td>\n",
       "      <td>...</td>\n",
       "      <td>...</td>\n",
       "      <td>...</td>\n",
       "      <td>...</td>\n",
       "      <td>...</td>\n",
       "      <td>...</td>\n",
       "    </tr>\n",
       "    <tr>\n",
       "      <th>1739</th>\n",
       "      <td>1998.0</td>\n",
       "      <td>2.0</td>\n",
       "      <td>2013.0</td>\n",
       "      <td>1.0</td>\n",
       "      <td>26.0</td>\n",
       "      <td>$193.24</td>\n",
       "      <td>Swipe Transaction</td>\n",
       "      <td>Neufelder Tegucigalpa Wine and Liquor</td>\n",
       "      <td>Tegucigalpa</td>\n",
       "      <td>Honduras</td>\n",
       "      <td>51694.676895</td>\n",
       "      <td>5921.0</td>\n",
       "      <td>Yes</td>\n",
       "    </tr>\n",
       "    <tr>\n",
       "      <th>1740</th>\n",
       "      <td>1999.0</td>\n",
       "      <td>3.0</td>\n",
       "      <td>2020.0</td>\n",
       "      <td>1.0</td>\n",
       "      <td>26.0</td>\n",
       "      <td>$221.96</td>\n",
       "      <td>Swipe Transaction</td>\n",
       "      <td>Abrils Wholesale</td>\n",
       "      <td>Saint Louis</td>\n",
       "      <td>MO</td>\n",
       "      <td>63146.000000</td>\n",
       "      <td>5300.0</td>\n",
       "      <td>Yes</td>\n",
       "    </tr>\n",
       "    <tr>\n",
       "      <th>1741</th>\n",
       "      <td>1999.0</td>\n",
       "      <td>3.0</td>\n",
       "      <td>2020.0</td>\n",
       "      <td>1.0</td>\n",
       "      <td>26.0</td>\n",
       "      <td>$26.69</td>\n",
       "      <td>Swipe Transaction</td>\n",
       "      <td>Abrils Wholesale</td>\n",
       "      <td>Saint Louis</td>\n",
       "      <td>MO</td>\n",
       "      <td>63146.000000</td>\n",
       "      <td>5300.0</td>\n",
       "      <td>Yes</td>\n",
       "    </tr>\n",
       "    <tr>\n",
       "      <th>1742</th>\n",
       "      <td>1999.0</td>\n",
       "      <td>3.0</td>\n",
       "      <td>2020.0</td>\n",
       "      <td>1.0</td>\n",
       "      <td>26.0</td>\n",
       "      <td>$103.95</td>\n",
       "      <td>Chip Transaction</td>\n",
       "      <td>Cox Saint Louis Restaurant</td>\n",
       "      <td>Saint Louis</td>\n",
       "      <td>MO</td>\n",
       "      <td>63146.000000</td>\n",
       "      <td>5812.0</td>\n",
       "      <td>Yes</td>\n",
       "    </tr>\n",
       "    <tr>\n",
       "      <th>1743</th>\n",
       "      <td>1999.0</td>\n",
       "      <td>3.0</td>\n",
       "      <td>2020.0</td>\n",
       "      <td>1.0</td>\n",
       "      <td>26.0</td>\n",
       "      <td>$0.24</td>\n",
       "      <td>Online Transaction</td>\n",
       "      <td>Digital Content Company 2</td>\n",
       "      <td>ONLINE</td>\n",
       "      <td>CA</td>\n",
       "      <td>51694.676895</td>\n",
       "      <td>5815.0</td>\n",
       "      <td>Yes</td>\n",
       "    </tr>\n",
       "  </tbody>\n",
       "</table>\n",
       "<p>1744 rows × 13 columns</p>\n",
       "</div>"
      ],
      "text/plain": [
       "        User  Card    Year  Month   Day   Amount             UseChip  \\\n",
       "0     1750.0   0.0  2015.0    7.0  16.0   $21.42   Swipe Transaction   \n",
       "1     1959.0   1.0  2016.0    5.0   5.0   $76.99    Chip Transaction   \n",
       "2      182.0   2.0  2012.0   11.0  23.0    $2.19   Swipe Transaction   \n",
       "3      458.0   2.0  2019.0    5.0  15.0   $45.73    Chip Transaction   \n",
       "4     1949.0   0.0  2018.0    1.0   4.0    $1.25    Chip Transaction   \n",
       "...      ...   ...     ...    ...   ...      ...                 ...   \n",
       "1739  1998.0   2.0  2013.0    1.0  26.0  $193.24   Swipe Transaction   \n",
       "1740  1999.0   3.0  2020.0    1.0  26.0  $221.96   Swipe Transaction   \n",
       "1741  1999.0   3.0  2020.0    1.0  26.0   $26.69   Swipe Transaction   \n",
       "1742  1999.0   3.0  2020.0    1.0  26.0  $103.95    Chip Transaction   \n",
       "1743  1999.0   3.0  2020.0    1.0  26.0    $0.24  Online Transaction   \n",
       "\n",
       "                               MerchantName MerchantCity MerchantState  \\\n",
       "0                           Lukass Theaters       Tiffin            OH   \n",
       "1                          Jadens Wholesale    Lancaster            CA   \n",
       "2                       Supermarket Chain 3      Houston            TX   \n",
       "3                       Supermarket Chain 3        Flint            MI   \n",
       "4                 Convenience Store Chain 1     Brooklyn            NY   \n",
       "...                                     ...          ...           ...   \n",
       "1739  Neufelder Tegucigalpa Wine and Liquor  Tegucigalpa      Honduras   \n",
       "1740                       Abrils Wholesale  Saint Louis            MO   \n",
       "1741                       Abrils Wholesale  Saint Louis            MO   \n",
       "1742             Cox Saint Louis Restaurant  Saint Louis            MO   \n",
       "1743              Digital Content Company 2       ONLINE            CA   \n",
       "\n",
       "               Zip     MCC target  \n",
       "0     44883.000000  7832.0     No  \n",
       "1     93535.000000  5300.0     No  \n",
       "2     77096.000000  5411.0     No  \n",
       "3     48532.000000  5411.0     No  \n",
       "4     11213.000000  5499.0     No  \n",
       "...            ...     ...    ...  \n",
       "1739  51694.676895  5921.0    Yes  \n",
       "1740  63146.000000  5300.0    Yes  \n",
       "1741  63146.000000  5300.0    Yes  \n",
       "1742  63146.000000  5812.0    Yes  \n",
       "1743  51694.676895  5815.0    Yes  \n",
       "\n",
       "[1744 rows x 13 columns]"
      ]
     },
     "execution_count": 4,
     "metadata": {},
     "output_type": "execute_result"
    }
   ],
   "source": [
    "# Loading the data\n",
    "df = pd.read_csv('undersampled_data.csv')\n",
    "df"
   ]
  },
  {
   "cell_type": "code",
   "execution_count": 5,
   "id": "fa1337db",
   "metadata": {},
   "outputs": [
    {
     "data": {
      "text/plain": [
       "Index(['User', 'Card', 'Year', 'Month', 'Day', 'Amount', 'UseChip',\n",
       "       'MerchantName', 'MerchantCity', 'MerchantState', 'Zip', 'MCC',\n",
       "       'target'],\n",
       "      dtype='object')"
      ]
     },
     "execution_count": 5,
     "metadata": {},
     "output_type": "execute_result"
    }
   ],
   "source": [
    "#User- column for user id details\n",
    "#Card-Column for card number\n",
    "#Year- column for year of transaction\n",
    "#Month-column for month of transaction\n",
    "#Day-column for Day of transaction\n",
    "#Amount-for how much amount transacted \n",
    "#Use Chip-for transaction is based on online or swipe transaction\n",
    "#Merchant name- Name of the merchant in the transaction\n",
    "#Merchant city-Merchant city name in the transaction\n",
    "#Merchant state-Merchant state name in the transaction\n",
    "#Zip-Postal code of the merchant area\n",
    "#MCC-It is a four number pin given by bank for each card\n",
    "df.columns"
   ]
  },
  {
   "cell_type": "code",
   "execution_count": 6,
   "id": "d88824af",
   "metadata": {},
   "outputs": [],
   "source": [
    "#Check Null values"
   ]
  },
  {
   "cell_type": "code",
   "execution_count": 7,
   "id": "3b52331d",
   "metadata": {},
   "outputs": [
    {
     "data": {
      "text/plain": [
       "User             0\n",
       "Card             0\n",
       "Year             0\n",
       "Month            0\n",
       "Day              0\n",
       "Amount           0\n",
       "UseChip          0\n",
       "MerchantName     0\n",
       "MerchantCity     0\n",
       "MerchantState    0\n",
       "Zip              0\n",
       "MCC              0\n",
       "target           0\n",
       "dtype: int64"
      ]
     },
     "execution_count": 7,
     "metadata": {},
     "output_type": "execute_result"
    }
   ],
   "source": [
    "df.isnull().sum()"
   ]
  },
  {
   "cell_type": "code",
   "execution_count": 8,
   "id": "a9ff1acf",
   "metadata": {},
   "outputs": [
    {
     "data": {
      "text/html": [
       "<div>\n",
       "<style scoped>\n",
       "    .dataframe tbody tr th:only-of-type {\n",
       "        vertical-align: middle;\n",
       "    }\n",
       "\n",
       "    .dataframe tbody tr th {\n",
       "        vertical-align: top;\n",
       "    }\n",
       "\n",
       "    .dataframe thead th {\n",
       "        text-align: right;\n",
       "    }\n",
       "</style>\n",
       "<table border=\"1\" class=\"dataframe\">\n",
       "  <thead>\n",
       "    <tr style=\"text-align: right;\">\n",
       "      <th></th>\n",
       "      <th>User</th>\n",
       "      <th>Card</th>\n",
       "      <th>Year</th>\n",
       "      <th>Month</th>\n",
       "      <th>Day</th>\n",
       "      <th>Amount</th>\n",
       "      <th>UseChip</th>\n",
       "      <th>MerchantName</th>\n",
       "      <th>MerchantCity</th>\n",
       "      <th>MerchantState</th>\n",
       "      <th>Zip</th>\n",
       "      <th>MCC</th>\n",
       "      <th>target</th>\n",
       "    </tr>\n",
       "  </thead>\n",
       "  <tbody>\n",
       "    <tr>\n",
       "      <th>0</th>\n",
       "      <td>1750.0</td>\n",
       "      <td>0.0</td>\n",
       "      <td>2015.0</td>\n",
       "      <td>7.0</td>\n",
       "      <td>16.0</td>\n",
       "      <td>$21.42</td>\n",
       "      <td>Swipe Transaction</td>\n",
       "      <td>Lukass Theaters</td>\n",
       "      <td>Tiffin</td>\n",
       "      <td>OH</td>\n",
       "      <td>44883.0</td>\n",
       "      <td>7832.0</td>\n",
       "      <td>No</td>\n",
       "    </tr>\n",
       "    <tr>\n",
       "      <th>1</th>\n",
       "      <td>1959.0</td>\n",
       "      <td>1.0</td>\n",
       "      <td>2016.0</td>\n",
       "      <td>5.0</td>\n",
       "      <td>5.0</td>\n",
       "      <td>$76.99</td>\n",
       "      <td>Chip Transaction</td>\n",
       "      <td>Jadens Wholesale</td>\n",
       "      <td>Lancaster</td>\n",
       "      <td>CA</td>\n",
       "      <td>93535.0</td>\n",
       "      <td>5300.0</td>\n",
       "      <td>No</td>\n",
       "    </tr>\n",
       "    <tr>\n",
       "      <th>2</th>\n",
       "      <td>182.0</td>\n",
       "      <td>2.0</td>\n",
       "      <td>2012.0</td>\n",
       "      <td>11.0</td>\n",
       "      <td>23.0</td>\n",
       "      <td>$2.19</td>\n",
       "      <td>Swipe Transaction</td>\n",
       "      <td>Supermarket Chain 3</td>\n",
       "      <td>Houston</td>\n",
       "      <td>TX</td>\n",
       "      <td>77096.0</td>\n",
       "      <td>5411.0</td>\n",
       "      <td>No</td>\n",
       "    </tr>\n",
       "    <tr>\n",
       "      <th>3</th>\n",
       "      <td>458.0</td>\n",
       "      <td>2.0</td>\n",
       "      <td>2019.0</td>\n",
       "      <td>5.0</td>\n",
       "      <td>15.0</td>\n",
       "      <td>$45.73</td>\n",
       "      <td>Chip Transaction</td>\n",
       "      <td>Supermarket Chain 3</td>\n",
       "      <td>Flint</td>\n",
       "      <td>MI</td>\n",
       "      <td>48532.0</td>\n",
       "      <td>5411.0</td>\n",
       "      <td>No</td>\n",
       "    </tr>\n",
       "    <tr>\n",
       "      <th>4</th>\n",
       "      <td>1949.0</td>\n",
       "      <td>0.0</td>\n",
       "      <td>2018.0</td>\n",
       "      <td>1.0</td>\n",
       "      <td>4.0</td>\n",
       "      <td>$1.25</td>\n",
       "      <td>Chip Transaction</td>\n",
       "      <td>Convenience Store Chain 1</td>\n",
       "      <td>Brooklyn</td>\n",
       "      <td>NY</td>\n",
       "      <td>11213.0</td>\n",
       "      <td>5499.0</td>\n",
       "      <td>No</td>\n",
       "    </tr>\n",
       "  </tbody>\n",
       "</table>\n",
       "</div>"
      ],
      "text/plain": [
       "     User  Card    Year  Month   Day  Amount            UseChip  \\\n",
       "0  1750.0   0.0  2015.0    7.0  16.0  $21.42  Swipe Transaction   \n",
       "1  1959.0   1.0  2016.0    5.0   5.0  $76.99   Chip Transaction   \n",
       "2   182.0   2.0  2012.0   11.0  23.0   $2.19  Swipe Transaction   \n",
       "3   458.0   2.0  2019.0    5.0  15.0  $45.73   Chip Transaction   \n",
       "4  1949.0   0.0  2018.0    1.0   4.0   $1.25   Chip Transaction   \n",
       "\n",
       "                MerchantName MerchantCity MerchantState      Zip     MCC  \\\n",
       "0            Lukass Theaters       Tiffin            OH  44883.0  7832.0   \n",
       "1           Jadens Wholesale    Lancaster            CA  93535.0  5300.0   \n",
       "2        Supermarket Chain 3      Houston            TX  77096.0  5411.0   \n",
       "3        Supermarket Chain 3        Flint            MI  48532.0  5411.0   \n",
       "4  Convenience Store Chain 1     Brooklyn            NY  11213.0  5499.0   \n",
       "\n",
       "  target  \n",
       "0     No  \n",
       "1     No  \n",
       "2     No  \n",
       "3     No  \n",
       "4     No  "
      ]
     },
     "execution_count": 8,
     "metadata": {},
     "output_type": "execute_result"
    }
   ],
   "source": [
    "df.head()"
   ]
  },
  {
   "cell_type": "code",
   "execution_count": 9,
   "id": "525edcaf",
   "metadata": {},
   "outputs": [],
   "source": [
    "#Check balanced data or imbalanced data"
   ]
  },
  {
   "cell_type": "code",
   "execution_count": 11,
   "id": "34f27060",
   "metadata": {},
   "outputs": [
    {
     "data": {
      "text/plain": [
       "target\n",
       "No     872\n",
       "Yes    872\n",
       "Name: count, dtype: int64"
      ]
     },
     "execution_count": 11,
     "metadata": {},
     "output_type": "execute_result"
    }
   ],
   "source": [
    "# Check balanced data or imbalanced data\n",
    "df['target'].value_counts()\n"
   ]
  },
  {
   "cell_type": "code",
   "execution_count": 12,
   "id": "518c691e",
   "metadata": {},
   "outputs": [],
   "source": [
    "#Split the input and output values"
   ]
  },
  {
   "cell_type": "code",
   "execution_count": 14,
   "id": "21c8c396",
   "metadata": {},
   "outputs": [
    {
     "name": "stdout",
     "output_type": "stream",
     "text": [
      "        User  Card    Year  Month   Day             UseChip  \\\n",
      "0     1750.0   0.0  2015.0    7.0  16.0   Swipe Transaction   \n",
      "1     1959.0   1.0  2016.0    5.0   5.0    Chip Transaction   \n",
      "2      182.0   2.0  2012.0   11.0  23.0   Swipe Transaction   \n",
      "3      458.0   2.0  2019.0    5.0  15.0    Chip Transaction   \n",
      "4     1949.0   0.0  2018.0    1.0   4.0    Chip Transaction   \n",
      "...      ...   ...     ...    ...   ...                 ...   \n",
      "1739  1998.0   2.0  2013.0    1.0  26.0   Swipe Transaction   \n",
      "1740  1999.0   3.0  2020.0    1.0  26.0   Swipe Transaction   \n",
      "1741  1999.0   3.0  2020.0    1.0  26.0   Swipe Transaction   \n",
      "1742  1999.0   3.0  2020.0    1.0  26.0    Chip Transaction   \n",
      "1743  1999.0   3.0  2020.0    1.0  26.0  Online Transaction   \n",
      "\n",
      "                               MerchantName MerchantCity MerchantState  \\\n",
      "0                           Lukass Theaters       Tiffin            OH   \n",
      "1                          Jadens Wholesale    Lancaster            CA   \n",
      "2                       Supermarket Chain 3      Houston            TX   \n",
      "3                       Supermarket Chain 3        Flint            MI   \n",
      "4                 Convenience Store Chain 1     Brooklyn            NY   \n",
      "...                                     ...          ...           ...   \n",
      "1739  Neufelder Tegucigalpa Wine and Liquor  Tegucigalpa      Honduras   \n",
      "1740                       Abrils Wholesale  Saint Louis            MO   \n",
      "1741                       Abrils Wholesale  Saint Louis            MO   \n",
      "1742             Cox Saint Louis Restaurant  Saint Louis            MO   \n",
      "1743              Digital Content Company 2       ONLINE            CA   \n",
      "\n",
      "               Zip     MCC  \n",
      "0     44883.000000  7832.0  \n",
      "1     93535.000000  5300.0  \n",
      "2     77096.000000  5411.0  \n",
      "3     48532.000000  5411.0  \n",
      "4     11213.000000  5499.0  \n",
      "...            ...     ...  \n",
      "1739  51694.676895  5921.0  \n",
      "1740  63146.000000  5300.0  \n",
      "1741  63146.000000  5300.0  \n",
      "1742  63146.000000  5812.0  \n",
      "1743  51694.676895  5815.0  \n",
      "\n",
      "[1744 rows x 11 columns]\n",
      "     target\n",
      "0        No\n",
      "1        No\n",
      "2        No\n",
      "3        No\n",
      "4        No\n",
      "...     ...\n",
      "1739    Yes\n",
      "1740    Yes\n",
      "1741    Yes\n",
      "1742    Yes\n",
      "1743    Yes\n",
      "\n",
      "[1744 rows x 1 columns]\n"
     ]
    }
   ],
   "source": [
    "# Separate independent and dependent variables\n",
    "independent = df[['User', 'Card', 'Year', 'Month', 'Day', 'UseChip',\n",
    "                   'MerchantName', 'MerchantCity', 'MerchantState', 'Zip', 'MCC']]\n",
    "dependent = df[['target']]\n",
    "\n",
    "print(independent)\n",
    "print(dependent)\n"
   ]
  },
  {
   "cell_type": "code",
   "execution_count": 15,
   "id": "b05a3f9b",
   "metadata": {},
   "outputs": [],
   "source": [
    "#Data preprocessing"
   ]
  },
  {
   "cell_type": "code",
   "execution_count": 16,
   "id": "a32b0bf7",
   "metadata": {},
   "outputs": [],
   "source": [
    "#split the numerical and categorical values"
   ]
  },
  {
   "cell_type": "code",
   "execution_count": 17,
   "id": "877b86c1",
   "metadata": {},
   "outputs": [],
   "source": [
    "def quanQual(df):\n",
    "    quan=[]\n",
    "    qual=[]\n",
    "    for columnName in df.columns:\n",
    "    #print(columnName)\n",
    "        if(df[columnName].dtypes=='O'):\n",
    "        #print(\"qual\")\n",
    "            qual.append(columnName)\n",
    "        else:\n",
    "        #print(\"quan\")\n",
    "             quan.append(columnName)\n",
    "    return quan,qual"
   ]
  },
  {
   "cell_type": "code",
   "execution_count": 18,
   "id": "2bc2f896",
   "metadata": {},
   "outputs": [],
   "source": [
    "quan,qual=quanQual(df)"
   ]
  },
  {
   "cell_type": "code",
   "execution_count": 19,
   "id": "cdd51b4e",
   "metadata": {},
   "outputs": [
    {
     "data": {
      "text/plain": [
       "['User', 'Card', 'Year', 'Month', 'Day', 'Zip', 'MCC']"
      ]
     },
     "execution_count": 19,
     "metadata": {},
     "output_type": "execute_result"
    }
   ],
   "source": [
    "quan"
   ]
  },
  {
   "cell_type": "code",
   "execution_count": 20,
   "id": "f4216573",
   "metadata": {},
   "outputs": [
    {
     "data": {
      "text/plain": [
       "['Amount',\n",
       " 'UseChip',\n",
       " 'MerchantName',\n",
       " 'MerchantCity',\n",
       " 'MerchantState',\n",
       " 'target']"
      ]
     },
     "execution_count": 20,
     "metadata": {},
     "output_type": "execute_result"
    }
   ],
   "source": [
    "qual"
   ]
  },
  {
   "cell_type": "code",
   "execution_count": 21,
   "id": "20d4f7ca",
   "metadata": {},
   "outputs": [],
   "source": [
    "import numpy as np\n",
    "from sklearn.impute import SimpleImputer\n",
    "imp=SimpleImputer(missing_values=np.nan,strategy=\"mean\",copy=True)\n",
    "imp.fit(df[quan])\n",
    "datan=imp.transform(df[quan])"
   ]
  },
  {
   "cell_type": "code",
   "execution_count": 22,
   "id": "dbd9fa25",
   "metadata": {},
   "outputs": [
    {
     "data": {
      "text/plain": [
       "array([[1.75000000e+03, 0.00000000e+00, 2.01500000e+03, ...,\n",
       "        1.60000000e+01, 4.48830000e+04, 7.83200000e+03],\n",
       "       [1.95900000e+03, 1.00000000e+00, 2.01600000e+03, ...,\n",
       "        5.00000000e+00, 9.35350000e+04, 5.30000000e+03],\n",
       "       [1.82000000e+02, 2.00000000e+00, 2.01200000e+03, ...,\n",
       "        2.30000000e+01, 7.70960000e+04, 5.41100000e+03],\n",
       "       ...,\n",
       "       [1.99900000e+03, 3.00000000e+00, 2.02000000e+03, ...,\n",
       "        2.60000000e+01, 6.31460000e+04, 5.30000000e+03],\n",
       "       [1.99900000e+03, 3.00000000e+00, 2.02000000e+03, ...,\n",
       "        2.60000000e+01, 6.31460000e+04, 5.81200000e+03],\n",
       "       [1.99900000e+03, 3.00000000e+00, 2.02000000e+03, ...,\n",
       "        2.60000000e+01, 5.16946769e+04, 5.81500000e+03]])"
      ]
     },
     "execution_count": 22,
     "metadata": {},
     "output_type": "execute_result"
    }
   ],
   "source": [
    "datan"
   ]
  },
  {
   "cell_type": "code",
   "execution_count": 23,
   "id": "b0078922",
   "metadata": {},
   "outputs": [],
   "source": [
    "datan=pd.DataFrame(datan,columns=quan)"
   ]
  },
  {
   "cell_type": "code",
   "execution_count": 24,
   "id": "e37e295d",
   "metadata": {},
   "outputs": [],
   "source": [
    "import numpy as np\n",
    "from sklearn.impute import SimpleImputer\n",
    "imp=SimpleImputer(missing_values=np.nan,strategy=\"most_frequent\")\n",
    "imp.fit(df[qual])\n",
    "datal=imp.transform(df[qual])"
   ]
  },
  {
   "cell_type": "code",
   "execution_count": 25,
   "id": "0181144d",
   "metadata": {},
   "outputs": [
    {
     "data": {
      "text/plain": [
       "array([['$21.42', 'Swipe Transaction', 'Lukass Theaters', 'Tiffin', 'OH',\n",
       "        'No'],\n",
       "       ['$76.99', 'Chip Transaction', 'Jadens Wholesale', 'Lancaster',\n",
       "        'CA', 'No'],\n",
       "       ['$2.19', 'Swipe Transaction', 'Supermarket Chain 3', 'Houston',\n",
       "        'TX', 'No'],\n",
       "       ...,\n",
       "       ['$26.69', 'Swipe Transaction', 'Abrils Wholesale', 'Saint Louis',\n",
       "        'MO', 'Yes'],\n",
       "       ['$103.95', 'Chip Transaction', 'Cox Saint Louis Restaurant',\n",
       "        'Saint Louis', 'MO', 'Yes'],\n",
       "       ['$0.24', 'Online Transaction', 'Digital Content Company 2',\n",
       "        'ONLINE', 'CA', 'Yes']], dtype=object)"
      ]
     },
     "execution_count": 25,
     "metadata": {},
     "output_type": "execute_result"
    }
   ],
   "source": [
    "datal"
   ]
  },
  {
   "cell_type": "code",
   "execution_count": 26,
   "id": "f306a95c",
   "metadata": {},
   "outputs": [],
   "source": [
    "datal=pd.DataFrame(datal,columns=qual)"
   ]
  },
  {
   "cell_type": "code",
   "execution_count": 27,
   "id": "37e6fadc",
   "metadata": {},
   "outputs": [],
   "source": [
    "df=pd.concat([datan,datal],axis=1)"
   ]
  },
  {
   "cell_type": "code",
   "execution_count": 30,
   "id": "51270fdd",
   "metadata": {},
   "outputs": [],
   "source": [
    "csv=df.to_csv(\"Preprocessed_undersampled_data.csv\",index=False)"
   ]
  },
  {
   "cell_type": "code",
   "execution_count": 29,
   "id": "70e8bbcf",
   "metadata": {},
   "outputs": [],
   "source": [
    "csv"
   ]
  },
  {
   "cell_type": "code",
   "execution_count": null,
   "id": "da9d9e94",
   "metadata": {},
   "outputs": [],
   "source": []
  }
 ],
 "metadata": {
  "kernelspec": {
   "display_name": "Python 3 (ipykernel)",
   "language": "python",
   "name": "python3"
  },
  "language_info": {
   "codemirror_mode": {
    "name": "ipython",
    "version": 3
   },
   "file_extension": ".py",
   "mimetype": "text/x-python",
   "name": "python",
   "nbconvert_exporter": "python",
   "pygments_lexer": "ipython3",
   "version": "3.11.5"
  }
 },
 "nbformat": 4,
 "nbformat_minor": 5
}
