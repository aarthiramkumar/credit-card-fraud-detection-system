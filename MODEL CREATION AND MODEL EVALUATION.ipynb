{
 "cells": [
  {
   "cell_type": "code",
   "execution_count": 1,
   "id": "38f086df",
   "metadata": {},
   "outputs": [],
   "source": [
    "import pandas as pd\n",
    "import seaborn as sns\n",
    "import matplotlib.pyplot as plt\n",
    "import numpy as np"
   ]
  },
  {
   "cell_type": "code",
   "execution_count": 2,
   "id": "bc3bbbfe",
   "metadata": {},
   "outputs": [],
   "source": [
    "import warnings\n",
    "warnings.filterwarnings('ignore')"
   ]
  },
  {
   "cell_type": "code",
   "execution_count": 3,
   "id": "8137d2e2",
   "metadata": {},
   "outputs": [
    {
     "data": {
      "text/html": [
       "<div>\n",
       "<style scoped>\n",
       "    .dataframe tbody tr th:only-of-type {\n",
       "        vertical-align: middle;\n",
       "    }\n",
       "\n",
       "    .dataframe tbody tr th {\n",
       "        vertical-align: top;\n",
       "    }\n",
       "\n",
       "    .dataframe thead th {\n",
       "        text-align: right;\n",
       "    }\n",
       "</style>\n",
       "<table border=\"1\" class=\"dataframe\">\n",
       "  <thead>\n",
       "    <tr style=\"text-align: right;\">\n",
       "      <th></th>\n",
       "      <th>User</th>\n",
       "      <th>Card</th>\n",
       "      <th>Year</th>\n",
       "      <th>Month</th>\n",
       "      <th>Day</th>\n",
       "      <th>Amount</th>\n",
       "      <th>UseChip</th>\n",
       "      <th>MerchantName</th>\n",
       "      <th>MerchantCity</th>\n",
       "      <th>MerchantState</th>\n",
       "      <th>Zip</th>\n",
       "      <th>MCC</th>\n",
       "      <th>target</th>\n",
       "    </tr>\n",
       "  </thead>\n",
       "  <tbody>\n",
       "    <tr>\n",
       "      <th>0</th>\n",
       "      <td>1750.0</td>\n",
       "      <td>0.0</td>\n",
       "      <td>2015.0</td>\n",
       "      <td>7.0</td>\n",
       "      <td>16.0</td>\n",
       "      <td>$21.42</td>\n",
       "      <td>Swipe Transaction</td>\n",
       "      <td>Lukass Theaters</td>\n",
       "      <td>Tiffin</td>\n",
       "      <td>OH</td>\n",
       "      <td>44883.000000</td>\n",
       "      <td>7832.0</td>\n",
       "      <td>No</td>\n",
       "    </tr>\n",
       "    <tr>\n",
       "      <th>1</th>\n",
       "      <td>1959.0</td>\n",
       "      <td>1.0</td>\n",
       "      <td>2016.0</td>\n",
       "      <td>5.0</td>\n",
       "      <td>5.0</td>\n",
       "      <td>$76.99</td>\n",
       "      <td>Chip Transaction</td>\n",
       "      <td>Jadens Wholesale</td>\n",
       "      <td>Lancaster</td>\n",
       "      <td>CA</td>\n",
       "      <td>93535.000000</td>\n",
       "      <td>5300.0</td>\n",
       "      <td>No</td>\n",
       "    </tr>\n",
       "    <tr>\n",
       "      <th>2</th>\n",
       "      <td>182.0</td>\n",
       "      <td>2.0</td>\n",
       "      <td>2012.0</td>\n",
       "      <td>11.0</td>\n",
       "      <td>23.0</td>\n",
       "      <td>$2.19</td>\n",
       "      <td>Swipe Transaction</td>\n",
       "      <td>Supermarket Chain 3</td>\n",
       "      <td>Houston</td>\n",
       "      <td>TX</td>\n",
       "      <td>77096.000000</td>\n",
       "      <td>5411.0</td>\n",
       "      <td>No</td>\n",
       "    </tr>\n",
       "    <tr>\n",
       "      <th>3</th>\n",
       "      <td>458.0</td>\n",
       "      <td>2.0</td>\n",
       "      <td>2019.0</td>\n",
       "      <td>5.0</td>\n",
       "      <td>15.0</td>\n",
       "      <td>$45.73</td>\n",
       "      <td>Chip Transaction</td>\n",
       "      <td>Supermarket Chain 3</td>\n",
       "      <td>Flint</td>\n",
       "      <td>MI</td>\n",
       "      <td>48532.000000</td>\n",
       "      <td>5411.0</td>\n",
       "      <td>No</td>\n",
       "    </tr>\n",
       "    <tr>\n",
       "      <th>4</th>\n",
       "      <td>1949.0</td>\n",
       "      <td>0.0</td>\n",
       "      <td>2018.0</td>\n",
       "      <td>1.0</td>\n",
       "      <td>4.0</td>\n",
       "      <td>$1.25</td>\n",
       "      <td>Chip Transaction</td>\n",
       "      <td>Convenience Store Chain 1</td>\n",
       "      <td>Brooklyn</td>\n",
       "      <td>NY</td>\n",
       "      <td>11213.000000</td>\n",
       "      <td>5499.0</td>\n",
       "      <td>No</td>\n",
       "    </tr>\n",
       "    <tr>\n",
       "      <th>...</th>\n",
       "      <td>...</td>\n",
       "      <td>...</td>\n",
       "      <td>...</td>\n",
       "      <td>...</td>\n",
       "      <td>...</td>\n",
       "      <td>...</td>\n",
       "      <td>...</td>\n",
       "      <td>...</td>\n",
       "      <td>...</td>\n",
       "      <td>...</td>\n",
       "      <td>...</td>\n",
       "      <td>...</td>\n",
       "      <td>...</td>\n",
       "    </tr>\n",
       "    <tr>\n",
       "      <th>1739</th>\n",
       "      <td>309.0</td>\n",
       "      <td>1.0</td>\n",
       "      <td>2008.0</td>\n",
       "      <td>7.0</td>\n",
       "      <td>1.0</td>\n",
       "      <td>$142.44</td>\n",
       "      <td>Swipe Transaction</td>\n",
       "      <td>Amaris Istanbul Wholesale</td>\n",
       "      <td>Istanbul</td>\n",
       "      <td>Turkey</td>\n",
       "      <td>51694.676895</td>\n",
       "      <td>5310.0</td>\n",
       "      <td>Yes</td>\n",
       "    </tr>\n",
       "    <tr>\n",
       "      <th>1740</th>\n",
       "      <td>731.0</td>\n",
       "      <td>0.0</td>\n",
       "      <td>2011.0</td>\n",
       "      <td>9.0</td>\n",
       "      <td>21.0</td>\n",
       "      <td>$33.29</td>\n",
       "      <td>Online Transaction</td>\n",
       "      <td>Department Store 9</td>\n",
       "      <td>ONLINE</td>\n",
       "      <td>CA</td>\n",
       "      <td>51694.676895</td>\n",
       "      <td>5311.0</td>\n",
       "      <td>Yes</td>\n",
       "    </tr>\n",
       "    <tr>\n",
       "      <th>1741</th>\n",
       "      <td>1995.0</td>\n",
       "      <td>1.0</td>\n",
       "      <td>2014.0</td>\n",
       "      <td>2.0</td>\n",
       "      <td>9.0</td>\n",
       "      <td>$0.93</td>\n",
       "      <td>Online Transaction</td>\n",
       "      <td>Department Store 10</td>\n",
       "      <td>ONLINE</td>\n",
       "      <td>CA</td>\n",
       "      <td>51694.676895</td>\n",
       "      <td>5311.0</td>\n",
       "      <td>Yes</td>\n",
       "    </tr>\n",
       "    <tr>\n",
       "      <th>1742</th>\n",
       "      <td>1075.0</td>\n",
       "      <td>0.0</td>\n",
       "      <td>2016.0</td>\n",
       "      <td>11.0</td>\n",
       "      <td>27.0</td>\n",
       "      <td>$12.22</td>\n",
       "      <td>Chip Transaction</td>\n",
       "      <td>Diaz Ale House</td>\n",
       "      <td>Simi Valley</td>\n",
       "      <td>CA</td>\n",
       "      <td>93065.000000</td>\n",
       "      <td>5813.0</td>\n",
       "      <td>Yes</td>\n",
       "    </tr>\n",
       "    <tr>\n",
       "      <th>1743</th>\n",
       "      <td>264.0</td>\n",
       "      <td>1.0</td>\n",
       "      <td>2020.0</td>\n",
       "      <td>2.0</td>\n",
       "      <td>1.0</td>\n",
       "      <td>$86.36</td>\n",
       "      <td>Chip Transaction</td>\n",
       "      <td>Eddies Wholesale</td>\n",
       "      <td>Georgetown</td>\n",
       "      <td>Guyana</td>\n",
       "      <td>51694.676895</td>\n",
       "      <td>5310.0</td>\n",
       "      <td>Yes</td>\n",
       "    </tr>\n",
       "  </tbody>\n",
       "</table>\n",
       "<p>1744 rows × 13 columns</p>\n",
       "</div>"
      ],
      "text/plain": [
       "        User  Card    Year  Month   Day   Amount             UseChip  \\\n",
       "0     1750.0   0.0  2015.0    7.0  16.0   $21.42   Swipe Transaction   \n",
       "1     1959.0   1.0  2016.0    5.0   5.0   $76.99    Chip Transaction   \n",
       "2      182.0   2.0  2012.0   11.0  23.0    $2.19   Swipe Transaction   \n",
       "3      458.0   2.0  2019.0    5.0  15.0   $45.73    Chip Transaction   \n",
       "4     1949.0   0.0  2018.0    1.0   4.0    $1.25    Chip Transaction   \n",
       "...      ...   ...     ...    ...   ...      ...                 ...   \n",
       "1739   309.0   1.0  2008.0    7.0   1.0  $142.44   Swipe Transaction   \n",
       "1740   731.0   0.0  2011.0    9.0  21.0   $33.29  Online Transaction   \n",
       "1741  1995.0   1.0  2014.0    2.0   9.0    $0.93  Online Transaction   \n",
       "1742  1075.0   0.0  2016.0   11.0  27.0   $12.22    Chip Transaction   \n",
       "1743   264.0   1.0  2020.0    2.0   1.0   $86.36    Chip Transaction   \n",
       "\n",
       "                   MerchantName MerchantCity MerchantState           Zip  \\\n",
       "0               Lukass Theaters       Tiffin            OH  44883.000000   \n",
       "1              Jadens Wholesale    Lancaster            CA  93535.000000   \n",
       "2           Supermarket Chain 3      Houston            TX  77096.000000   \n",
       "3           Supermarket Chain 3        Flint            MI  48532.000000   \n",
       "4     Convenience Store Chain 1     Brooklyn            NY  11213.000000   \n",
       "...                         ...          ...           ...           ...   \n",
       "1739  Amaris Istanbul Wholesale     Istanbul        Turkey  51694.676895   \n",
       "1740         Department Store 9       ONLINE            CA  51694.676895   \n",
       "1741        Department Store 10       ONLINE            CA  51694.676895   \n",
       "1742             Diaz Ale House  Simi Valley            CA  93065.000000   \n",
       "1743           Eddies Wholesale   Georgetown        Guyana  51694.676895   \n",
       "\n",
       "         MCC target  \n",
       "0     7832.0     No  \n",
       "1     5300.0     No  \n",
       "2     5411.0     No  \n",
       "3     5411.0     No  \n",
       "4     5499.0     No  \n",
       "...      ...    ...  \n",
       "1739  5310.0    Yes  \n",
       "1740  5311.0    Yes  \n",
       "1741  5311.0    Yes  \n",
       "1742  5813.0    Yes  \n",
       "1743  5310.0    Yes  \n",
       "\n",
       "[1744 rows x 13 columns]"
      ]
     },
     "execution_count": 3,
     "metadata": {},
     "output_type": "execute_result"
    }
   ],
   "source": [
    "df=pd.read_csv(\"undersampled_data.csv\")\n",
    "df"
   ]
  },
  {
   "cell_type": "code",
   "execution_count": 4,
   "id": "fd383daf",
   "metadata": {},
   "outputs": [
    {
     "data": {
      "text/plain": [
       "target\n",
       "No     872\n",
       "Yes    872\n",
       "Name: count, dtype: int64"
      ]
     },
     "execution_count": 4,
     "metadata": {},
     "output_type": "execute_result"
    }
   ],
   "source": [
    "df[\"target\"].value_counts()"
   ]
  },
  {
   "cell_type": "code",
   "execution_count": 5,
   "id": "8e717615",
   "metadata": {},
   "outputs": [
    {
     "data": {
      "text/plain": [
       "User             0\n",
       "Card             0\n",
       "Year             0\n",
       "Month            0\n",
       "Day              0\n",
       "Amount           0\n",
       "UseChip          0\n",
       "MerchantName     0\n",
       "MerchantCity     0\n",
       "MerchantState    0\n",
       "Zip              0\n",
       "MCC              0\n",
       "target           0\n",
       "dtype: int64"
      ]
     },
     "execution_count": 5,
     "metadata": {},
     "output_type": "execute_result"
    }
   ],
   "source": [
    "df.isnull().sum()"
   ]
  },
  {
   "cell_type": "code",
   "execution_count": 6,
   "id": "1a5e5d50",
   "metadata": {},
   "outputs": [],
   "source": [
    "df['Amount'] = df['Amount'].replace({'\\$': '', ',': ''}, regex=True).astype(float)"
   ]
  },
  {
   "cell_type": "code",
   "execution_count": 7,
   "id": "ce8e4aae",
   "metadata": {},
   "outputs": [],
   "source": [
    "from sklearn.preprocessing import LabelEncoder\n",
    "\n",
    "le = LabelEncoder()\n",
    "col = ['UseChip', 'MerchantName', 'MerchantCity', 'MerchantState','target']\n",
    "for i in col:\n",
    "    df[i] = le.fit_transform(df[i]).astype(int)"
   ]
  },
  {
   "cell_type": "code",
   "execution_count": 8,
   "id": "3eeb6241",
   "metadata": {},
   "outputs": [
    {
     "data": {
      "text/html": [
       "<div>\n",
       "<style scoped>\n",
       "    .dataframe tbody tr th:only-of-type {\n",
       "        vertical-align: middle;\n",
       "    }\n",
       "\n",
       "    .dataframe tbody tr th {\n",
       "        vertical-align: top;\n",
       "    }\n",
       "\n",
       "    .dataframe thead th {\n",
       "        text-align: right;\n",
       "    }\n",
       "</style>\n",
       "<table border=\"1\" class=\"dataframe\">\n",
       "  <thead>\n",
       "    <tr style=\"text-align: right;\">\n",
       "      <th></th>\n",
       "      <th>Year</th>\n",
       "      <th>Month</th>\n",
       "      <th>UseChip</th>\n",
       "      <th>Amount</th>\n",
       "      <th>MerchantName</th>\n",
       "      <th>MerchantCity</th>\n",
       "      <th>MerchantState</th>\n",
       "      <th>MCC</th>\n",
       "    </tr>\n",
       "  </thead>\n",
       "  <tbody>\n",
       "    <tr>\n",
       "      <th>0</th>\n",
       "      <td>2015.0</td>\n",
       "      <td>7.0</td>\n",
       "      <td>2</td>\n",
       "      <td>21.42</td>\n",
       "      <td>383</td>\n",
       "      <td>522</td>\n",
       "      <td>45</td>\n",
       "      <td>7832.0</td>\n",
       "    </tr>\n",
       "    <tr>\n",
       "      <th>1</th>\n",
       "      <td>2016.0</td>\n",
       "      <td>5.0</td>\n",
       "      <td>0</td>\n",
       "      <td>76.99</td>\n",
       "      <td>318</td>\n",
       "      <td>270</td>\n",
       "      <td>6</td>\n",
       "      <td>5300.0</td>\n",
       "    </tr>\n",
       "    <tr>\n",
       "      <th>2</th>\n",
       "      <td>2012.0</td>\n",
       "      <td>11.0</td>\n",
       "      <td>2</td>\n",
       "      <td>2.19</td>\n",
       "      <td>529</td>\n",
       "      <td>230</td>\n",
       "      <td>55</td>\n",
       "      <td>5411.0</td>\n",
       "    </tr>\n",
       "    <tr>\n",
       "      <th>3</th>\n",
       "      <td>2019.0</td>\n",
       "      <td>5.0</td>\n",
       "      <td>0</td>\n",
       "      <td>45.73</td>\n",
       "      <td>529</td>\n",
       "      <td>171</td>\n",
       "      <td>31</td>\n",
       "      <td>5411.0</td>\n",
       "    </tr>\n",
       "    <tr>\n",
       "      <th>4</th>\n",
       "      <td>2018.0</td>\n",
       "      <td>1.0</td>\n",
       "      <td>0</td>\n",
       "      <td>1.25</td>\n",
       "      <td>153</td>\n",
       "      <td>68</td>\n",
       "      <td>44</td>\n",
       "      <td>5499.0</td>\n",
       "    </tr>\n",
       "    <tr>\n",
       "      <th>...</th>\n",
       "      <td>...</td>\n",
       "      <td>...</td>\n",
       "      <td>...</td>\n",
       "      <td>...</td>\n",
       "      <td>...</td>\n",
       "      <td>...</td>\n",
       "      <td>...</td>\n",
       "      <td>...</td>\n",
       "    </tr>\n",
       "    <tr>\n",
       "      <th>1739</th>\n",
       "      <td>2008.0</td>\n",
       "      <td>7.0</td>\n",
       "      <td>2</td>\n",
       "      <td>142.44</td>\n",
       "      <td>52</td>\n",
       "      <td>240</td>\n",
       "      <td>56</td>\n",
       "      <td>5310.0</td>\n",
       "    </tr>\n",
       "    <tr>\n",
       "      <th>1740</th>\n",
       "      <td>2011.0</td>\n",
       "      <td>9.0</td>\n",
       "      <td>1</td>\n",
       "      <td>33.29</td>\n",
       "      <td>190</td>\n",
       "      <td>387</td>\n",
       "      <td>6</td>\n",
       "      <td>5311.0</td>\n",
       "    </tr>\n",
       "    <tr>\n",
       "      <th>1741</th>\n",
       "      <td>2014.0</td>\n",
       "      <td>2.0</td>\n",
       "      <td>1</td>\n",
       "      <td>0.93</td>\n",
       "      <td>180</td>\n",
       "      <td>387</td>\n",
       "      <td>6</td>\n",
       "      <td>5311.0</td>\n",
       "    </tr>\n",
       "    <tr>\n",
       "      <th>1742</th>\n",
       "      <td>2016.0</td>\n",
       "      <td>11.0</td>\n",
       "      <td>0</td>\n",
       "      <td>12.22</td>\n",
       "      <td>191</td>\n",
       "      <td>502</td>\n",
       "      <td>6</td>\n",
       "      <td>5813.0</td>\n",
       "    </tr>\n",
       "    <tr>\n",
       "      <th>1743</th>\n",
       "      <td>2020.0</td>\n",
       "      <td>2.0</td>\n",
       "      <td>0</td>\n",
       "      <td>86.36</td>\n",
       "      <td>209</td>\n",
       "      <td>189</td>\n",
       "      <td>16</td>\n",
       "      <td>5310.0</td>\n",
       "    </tr>\n",
       "  </tbody>\n",
       "</table>\n",
       "<p>1744 rows × 8 columns</p>\n",
       "</div>"
      ],
      "text/plain": [
       "        Year  Month  UseChip  Amount  MerchantName  MerchantCity  \\\n",
       "0     2015.0    7.0        2   21.42           383           522   \n",
       "1     2016.0    5.0        0   76.99           318           270   \n",
       "2     2012.0   11.0        2    2.19           529           230   \n",
       "3     2019.0    5.0        0   45.73           529           171   \n",
       "4     2018.0    1.0        0    1.25           153            68   \n",
       "...      ...    ...      ...     ...           ...           ...   \n",
       "1739  2008.0    7.0        2  142.44            52           240   \n",
       "1740  2011.0    9.0        1   33.29           190           387   \n",
       "1741  2014.0    2.0        1    0.93           180           387   \n",
       "1742  2016.0   11.0        0   12.22           191           502   \n",
       "1743  2020.0    2.0        0   86.36           209           189   \n",
       "\n",
       "      MerchantState     MCC  \n",
       "0                45  7832.0  \n",
       "1                 6  5300.0  \n",
       "2                55  5411.0  \n",
       "3                31  5411.0  \n",
       "4                44  5499.0  \n",
       "...             ...     ...  \n",
       "1739             56  5310.0  \n",
       "1740              6  5311.0  \n",
       "1741              6  5311.0  \n",
       "1742              6  5813.0  \n",
       "1743             16  5310.0  \n",
       "\n",
       "[1744 rows x 8 columns]"
      ]
     },
     "execution_count": 8,
     "metadata": {},
     "output_type": "execute_result"
    }
   ],
   "source": [
    "independent=df[['Year', 'Month', 'UseChip','Amount',\n",
    "       'MerchantName', 'MerchantCity', 'MerchantState','MCC']]\n",
    "\n",
    "dependent=df[['target']]\n",
    "independent"
   ]
  },
  {
   "cell_type": "code",
   "execution_count": 9,
   "id": "30d09bd2",
   "metadata": {},
   "outputs": [],
   "source": [
    "#split into training set and test\n",
    "from sklearn.model_selection import train_test_split\n",
    "X_train,X_test,Y_train,Y_test=train_test_split(independent,dependent,test_size=1/3,random_state=42)"
   ]
  },
  {
   "cell_type": "code",
   "execution_count": 10,
   "id": "31ceaff4",
   "metadata": {},
   "outputs": [
    {
     "data": {
      "text/plain": [
       "(582, 8)"
      ]
     },
     "execution_count": 10,
     "metadata": {},
     "output_type": "execute_result"
    }
   ],
   "source": [
    "X_test.shape"
   ]
  },
  {
   "cell_type": "code",
   "execution_count": 11,
   "id": "44df19e1",
   "metadata": {},
   "outputs": [],
   "source": [
    "from sklearn.ensemble import RandomForestClassifier\n",
    "classifier=RandomForestClassifier(n_estimators= 100, criterion=\"entropy\")\n",
    "classifier=classifier.fit(X_train,Y_train.values.ravel())"
   ]
  },
  {
   "cell_type": "code",
   "execution_count": 12,
   "id": "30bdee98",
   "metadata": {},
   "outputs": [
    {
     "data": {
      "text/plain": [
       "array([0, 0, 0, 0, 0, 0, 0, 0, 0, 0, 1, 0, 1, 1, 1, 0, 0, 1, 0, 1, 1, 0,\n",
       "       0, 1, 1, 1, 0, 1, 1, 0, 1, 0, 0, 1, 1, 1, 0, 1, 1, 0, 1, 1, 0, 1,\n",
       "       1, 1, 1, 0, 1, 0, 0, 1, 0, 0, 0, 0, 0, 0, 1, 1, 0, 0, 1, 0, 0, 1,\n",
       "       1, 0, 0, 0, 1, 0, 1, 0, 0, 1, 0, 1, 1, 0, 0, 0, 1, 1, 0, 0, 1, 1,\n",
       "       1, 1, 1, 0, 0, 1, 1, 0, 1, 0, 1, 0, 0, 0, 0, 0, 0, 0, 0, 1, 1, 1,\n",
       "       0, 1, 0, 1, 0, 0, 0, 1, 1, 1, 0, 1, 0, 1, 1, 0, 1, 1, 0, 0, 1, 0,\n",
       "       1, 0, 0, 1, 0, 1, 0, 1, 0, 1, 0, 1, 0, 1, 1, 1, 0, 1, 1, 1, 1, 0,\n",
       "       1, 1, 1, 0, 1, 0, 1, 1, 1, 1, 0, 0, 0, 1, 0, 1, 1, 1, 0, 1, 0, 1,\n",
       "       0, 0, 0, 1, 0, 1, 0, 1, 0, 1, 1, 0, 0, 1, 0, 0, 1, 1, 0, 0, 0, 1,\n",
       "       0, 0, 0, 0, 1, 0, 0, 1, 1, 1, 0, 1, 1, 0, 0, 0, 0, 0, 1, 1, 0, 1,\n",
       "       1, 1, 0, 1, 0, 1, 0, 0, 0, 1, 0, 0, 1, 0, 0, 1, 1, 1, 1, 0, 0, 0,\n",
       "       0, 0, 1, 1, 0, 1, 0, 0, 0, 0, 0, 1, 0, 0, 1, 0, 0, 0, 0, 1, 1, 0,\n",
       "       0, 1, 0, 1, 1, 0, 0, 0, 1, 0, 1, 1, 0, 1, 1, 0, 0, 0, 0, 0, 1, 0,\n",
       "       0, 1, 1, 0, 1, 1, 1, 1, 0, 1, 0, 0, 0, 1, 0, 0, 1, 0, 1, 1, 0, 0,\n",
       "       1, 0, 0, 0, 0, 1, 1, 0, 0, 1, 0, 0, 1, 0, 1, 0, 0, 1, 1, 0, 0, 0,\n",
       "       0, 1, 1, 0, 1, 0, 0, 0, 0, 1, 1, 0, 0, 1, 1, 0, 1, 1, 1, 0, 0, 0,\n",
       "       1, 1, 1, 0, 0, 0, 1, 0, 0, 0, 0, 0, 0, 0, 0, 0, 1, 0, 1, 1, 0, 1,\n",
       "       0, 1, 1, 1, 0, 1, 1, 0, 1, 1, 0, 1, 1, 1, 1, 1, 1, 1, 1, 0, 1, 0,\n",
       "       0, 0, 0, 1, 1, 0, 1, 0, 0, 0, 0, 0, 0, 0, 1, 0, 0, 1, 0, 0, 1, 1,\n",
       "       1, 1, 0, 1, 0, 1, 1, 1, 1, 0, 1, 0, 0, 0, 0, 1, 0, 0, 1, 1, 1, 1,\n",
       "       1, 1, 1, 1, 0, 1, 0, 0, 1, 0, 0, 1, 0, 1, 0, 1, 1, 1, 1, 1, 0, 1,\n",
       "       0, 1, 1, 0, 1, 0, 0, 1, 1, 1, 0, 1, 1, 0, 1, 1, 0, 0, 0, 1, 1, 1,\n",
       "       1, 0, 1, 0, 0, 0, 1, 1, 0, 1, 1, 0, 0, 1, 1, 0, 1, 1, 0, 0, 1, 1,\n",
       "       0, 1, 1, 1, 0, 1, 0, 0, 1, 0, 0, 1, 0, 0, 0, 1, 1, 0, 0, 1, 0, 1,\n",
       "       1, 1, 0, 1, 0, 0, 1, 1, 0, 0, 1, 1, 0, 1, 0, 0, 0, 0, 1, 1, 0, 0,\n",
       "       1, 0, 0, 0, 0, 1, 0, 0, 1, 0, 0, 1, 1, 0, 0, 1, 0, 0, 1, 0, 0, 1,\n",
       "       0, 0, 1, 0, 1, 0, 0, 0, 0, 0])"
      ]
     },
     "execution_count": 12,
     "metadata": {},
     "output_type": "execute_result"
    }
   ],
   "source": [
    "y_pred=classifier.predict(X_test)\n",
    "y_pred"
   ]
  },
  {
   "cell_type": "code",
   "execution_count": 13,
   "id": "2896d89c",
   "metadata": {},
   "outputs": [],
   "source": [
    "from sklearn.metrics import confusion_matrix\n",
    "cm=confusion_matrix(Y_test.values.ravel(),y_pred)"
   ]
  },
  {
   "cell_type": "code",
   "execution_count": 14,
   "id": "cb21761d",
   "metadata": {},
   "outputs": [
    {
     "data": {
      "text/plain": [
       "array([[275,  15],\n",
       "       [ 33, 259]], dtype=int64)"
      ]
     },
     "execution_count": 14,
     "metadata": {},
     "output_type": "execute_result"
    }
   ],
   "source": [
    "cm"
   ]
  },
  {
   "cell_type": "code",
   "execution_count": 15,
   "id": "2f4056c5",
   "metadata": {},
   "outputs": [],
   "source": [
    "from sklearn.metrics import classification_report\n",
    "clf_report=classification_report(Y_test.values.ravel(),y_pred)"
   ]
  },
  {
   "cell_type": "code",
   "execution_count": 16,
   "id": "08903ff6",
   "metadata": {},
   "outputs": [
    {
     "name": "stdout",
     "output_type": "stream",
     "text": [
      "              precision    recall  f1-score   support\n",
      "\n",
      "           0       0.89      0.95      0.92       290\n",
      "           1       0.95      0.89      0.92       292\n",
      "\n",
      "    accuracy                           0.92       582\n",
      "   macro avg       0.92      0.92      0.92       582\n",
      "weighted avg       0.92      0.92      0.92       582\n",
      "\n"
     ]
    }
   ],
   "source": [
    "print(clf_report)"
   ]
  },
  {
   "cell_type": "code",
   "execution_count": 17,
   "id": "4d9e87c5",
   "metadata": {},
   "outputs": [
    {
     "name": "stdout",
     "output_type": "stream",
     "text": [
      "2013\n",
      "1\n",
      "2\n",
      "193\n",
      "422\n",
      "520\n",
      "18\n",
      "5921\n"
     ]
    }
   ],
   "source": [
    "Year=int(input())\n",
    "Month=int(input())\n",
    "UseChip=int(input())\n",
    "Amount=int(input())\n",
    "MerchantName=int(input())\n",
    "MerchantCity=int(input())\n",
    "MerchantState=int(input())\n",
    "mcc=int(input())"
   ]
  },
  {
   "cell_type": "code",
   "execution_count": 18,
   "id": "7415976e",
   "metadata": {},
   "outputs": [
    {
     "data": {
      "text/plain": [
       "array([1])"
      ]
     },
     "execution_count": 18,
     "metadata": {},
     "output_type": "execute_result"
    }
   ],
   "source": [
    "future_prediction=classifier.predict([[Year,Month,UseChip,Amount,MerchantName,MerchantCity,MerchantState,mcc]])\n",
    "future_prediction\n"
   ]
  },
  {
   "cell_type": "code",
   "execution_count": 19,
   "id": "d83a400e",
   "metadata": {},
   "outputs": [
    {
     "data": {
      "text/plain": [
       "['frauddetection.pkl']"
      ]
     },
     "execution_count": 19,
     "metadata": {},
     "output_type": "execute_result"
    }
   ],
   "source": [
    "import joblib\n",
    "\n",
    "# Assuming you have already trained a model named 'classifier'\n",
    "# Save the model to a file\n",
    "joblib.dump(classifier, 'frauddetection.pkl')"
   ]
  },
  {
   "cell_type": "code",
   "execution_count": null,
   "id": "6e2e048e",
   "metadata": {},
   "outputs": [],
   "source": []
  }
 ],
 "metadata": {
  "kernelspec": {
   "display_name": "Python 3 (ipykernel)",
   "language": "python",
   "name": "python3"
  },
  "language_info": {
   "codemirror_mode": {
    "name": "ipython",
    "version": 3
   },
   "file_extension": ".py",
   "mimetype": "text/x-python",
   "name": "python",
   "nbconvert_exporter": "python",
   "pygments_lexer": "ipython3",
   "version": "3.11.5"
  }
 },
 "nbformat": 4,
 "nbformat_minor": 5
}
